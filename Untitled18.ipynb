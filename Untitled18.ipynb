{
 "cells": [
  {
   "cell_type": "code",
   "execution_count": null,
   "id": "c1d0497d",
   "metadata": {},
   "outputs": [
    {
     "name": "stdout",
     "output_type": "stream",
     "text": [
      "Welcome to the Guess the Number game!\n",
      "I'm thinking of a number between 1 and 100. Can you guess what it is?\n",
      "Enter your guess: 12\n",
      "Your guess is too low. Guess again.\n",
      "Enter your guess: 12\n",
      "Your guess is too low. Guess again.\n",
      "Enter your guess: 2\n",
      "Your guess is too low. Guess again.\n",
      "Enter your guess: 14\n",
      "Your guess is too low. Guess again.\n"
     ]
    }
   ],
   "source": [
    "import random\n",
    "\n",
    "def guess_the_number():\n",
    "    print(\"Welcome to the Guess the Number game!\")\n",
    "    print(\"I'm thinking of a number between 1 and 100. Can you guess what it is?\")\n",
    "\n",
    "    target_number = random.randint(1, 100)\n",
    "    guessed = False\n",
    "\n",
    "    while not guessed:\n",
    "        guess = int(input(\"Enter your guess: \"))\n",
    "\n",
    "        if guess < target_number:\n",
    "            print(\"Your guess is too low. Guess again.\")\n",
    "        elif guess > target_number:\n",
    "            print(\"Your guess is too high. Guess again.\")\n",
    "        else:\n",
    "            guessed = True\n",
    "            print(\"Congratulations! You guessed the number correctly!\")\n",
    "\n",
    "guess_the_number()\n"
   ]
  },
  {
   "cell_type": "markdown",
   "id": "517cbc7e",
   "metadata": {},
   "source": [
    "\n",
    "5\n",
    "##### "
   ]
  }
 ],
 "metadata": {
  "kernelspec": {
   "display_name": "Python 3 (ipykernel)",
   "language": "python",
   "name": "python3"
  },
  "language_info": {
   "codemirror_mode": {
    "name": "ipython",
    "version": 3
   },
   "file_extension": ".py",
   "mimetype": "text/x-python",
   "name": "python",
   "nbconvert_exporter": "python",
   "pygments_lexer": "ipython3",
   "version": "3.10.9"
  }
 },
 "nbformat": 4,
 "nbformat_minor": 5
}
